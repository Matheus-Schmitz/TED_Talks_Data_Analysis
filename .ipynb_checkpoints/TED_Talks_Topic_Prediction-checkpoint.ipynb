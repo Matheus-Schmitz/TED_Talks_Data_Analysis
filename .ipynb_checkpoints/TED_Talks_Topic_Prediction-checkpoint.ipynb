{
 "cells": [
  {
   "cell_type": "markdown",
   "metadata": {
    "colab_type": "text",
    "id": "NuO3-KkAI6kQ"
   },
   "source": [
    "# Introduction"
   ]
  },
  {
   "cell_type": "markdown",
   "metadata": {
    "colab_type": "text",
    "id": "VcRfoCI4I-IF"
   },
   "source": [
    "Using TED Talks transcripts to predict the topic being presented"
   ]
  },
  {
   "cell_type": "markdown",
   "metadata": {
    "colab_type": "text",
    "id": "rBv_yxARQFpy"
   },
   "source": [
    "# Google Colab"
   ]
  },
  {
   "cell_type": "code",
   "execution_count": 1,
   "metadata": {
    "colab": {
     "base_uri": "https://localhost:8080/",
     "height": 0
    },
    "colab_type": "code",
    "executionInfo": {
     "elapsed": 1364,
     "status": "ok",
     "timestamp": 1598212355716,
     "user": {
      "displayName": "Matheus Schmitz",
      "photoUrl": "",
      "userId": "05041072222578354690"
     },
     "user_tz": 180
    },
    "id": "i84nqA2xJDq7",
    "outputId": "10972228-3f17-4b92-f775-a06a2c937755"
   },
   "outputs": [
    {
     "name": "stdout",
     "output_type": "stream",
     "text": [
      "Drive already mounted at /content/drive; to attempt to forcibly remount, call drive.mount(\"/content/drive\", force_remount=True).\n"
     ]
    }
   ],
   "source": [
    "# File manipulation imports for Google Colab\n",
    "from google.colab import drive\n",
    "drive.mount('/content/drive')\n",
    "import os\n",
    "os.chdir(\"/content/drive/My Drive/Colab Notebooks/TED_Talks_Data_Analysis\")"
   ]
  },
  {
   "cell_type": "markdown",
   "metadata": {
    "colab_type": "text",
    "id": "uYgXeTDgI-OA"
   },
   "source": [
    "# Imports"
   ]
  },
  {
   "cell_type": "code",
   "execution_count": 2,
   "metadata": {
    "colab": {},
    "colab_type": "code",
    "executionInfo": {
     "elapsed": 5594,
     "status": "ok",
     "timestamp": 1598212359977,
     "user": {
      "displayName": "Matheus Schmitz",
      "photoUrl": "",
      "userId": "05041072222578354690"
     },
     "user_tz": 180
    },
    "id": "rsrAXprPIzOO"
   },
   "outputs": [],
   "source": [
    "# Package to store the versions of packages used\n",
    "!pip install -q watermark"
   ]
  },
  {
   "cell_type": "code",
   "execution_count": 3,
   "metadata": {
    "colab": {},
    "colab_type": "code",
    "executionInfo": {
     "elapsed": 8619,
     "status": "ok",
     "timestamp": 1598212363020,
     "user": {
      "displayName": "Matheus Schmitz",
      "photoUrl": "",
      "userId": "05041072222578354690"
     },
     "user_tz": 180
    },
    "id": "phVKb423JBEF"
   },
   "outputs": [],
   "source": [
    "# Package to download the BERT models and process data\n",
    "!pip install -q transformers"
   ]
  },
  {
   "cell_type": "code",
   "execution_count": 4,
   "metadata": {
    "colab": {
     "base_uri": "https://localhost:8080/",
     "height": 0
    },
    "colab_type": "code",
    "executionInfo": {
     "elapsed": 10794,
     "status": "ok",
     "timestamp": 1598212365214,
     "user": {
      "displayName": "Matheus Schmitz",
      "photoUrl": "",
      "userId": "05041072222578354690"
     },
     "user_tz": 180
    },
    "id": "6iIf2moyJGnX",
    "outputId": "f1c5c464-2163-491e-ccaf-27a453d80407"
   },
   "outputs": [
    {
     "name": "stderr",
     "output_type": "stream",
     "text": [
      "/usr/local/lib/python3.6/dist-packages/statsmodels/tools/_testing.py:19: FutureWarning: pandas.util.testing is deprecated. Use the functions in the public API at pandas.testing instead.\n",
      "  import pandas.util.testing as tm\n"
     ]
    }
   ],
   "source": [
    "# Imports\n",
    "\n",
    "# Data manipulation and visualization\n",
    "import numpy as np\n",
    "import pandas as pd\n",
    "import seaborn as sns\n",
    "import matplotlib\n",
    "import matplotlib.pyplot as plt\n",
    "from pylab import rcParams\n",
    "from matplotlib import rc\n",
    "from tqdm.notebook import tqdm\n",
    "import datetime\n",
    "from time import time\n",
    "import random\n",
    "import pylab\n",
    "\n",
    "# Sklearn\n",
    "import sklearn \n",
    "from sklearn.utils import shuffle\n",
    "from sklearn.utils.class_weight import compute_class_weight\n",
    "from sklearn.preprocessing import LabelEncoder, OneHotEncoder\n",
    "from sklearn.model_selection import train_test_split\n",
    "from sklearn.metrics import accuracy_score, precision_score, recall_score, f1_score, roc_auc_score\n",
    "from sklearn.metrics import roc_curve, auc, precision_recall_curve\n",
    "from sklearn.metrics import confusion_matrix, multilabel_confusion_matrix, plot_confusion_matrix\n",
    "\n",
    "# Deep Learning, NLP and metrics\n",
    "import torch\n",
    "import transformers \n",
    "from textwrap import wrap\n",
    "from torch import nn, optim \n",
    "from torch.utils import data\n",
    "from collections import defaultdict\n",
    "from sklearn.model_selection import train_test_split\n",
    "from sklearn.metrics import confusion_matrix\n",
    "from sklearn.metrics import classification_report\n",
    "from transformers import BertModel\n",
    "from transformers import BertTokenizer\n",
    "from transformers import AdamW\n",
    "from transformers import get_linear_schedule_with_warmup\n",
    "\n",
    "%matplotlib inline"
   ]
  },
  {
   "cell_type": "code",
   "execution_count": 5,
   "metadata": {
    "colab": {
     "base_uri": "https://localhost:8080/",
     "height": 0
    },
    "colab_type": "code",
    "executionInfo": {
     "elapsed": 10785,
     "status": "ok",
     "timestamp": 1598212365217,
     "user": {
      "displayName": "Matheus Schmitz",
      "photoUrl": "",
      "userId": "05041072222578354690"
     },
     "user_tz": 180
    },
    "id": "NAtRbJ7VJQ56",
    "outputId": "9c3db5e6-e3fe-4a14-944c-8804772a6086"
   },
   "outputs": [
    {
     "name": "stdout",
     "output_type": "stream",
     "text": [
      "transformers 3.0.2\n",
      "seaborn      0.10.1\n",
      "sklearn      0.22.2.post1\n",
      "pandas       1.0.5\n",
      "matplotlib   3.2.2\n",
      "numpy        1.18.5\n",
      "torch        1.6.0+cu101\n",
      "CPython 3.6.9\n",
      "IPython 5.5.0\n"
     ]
    }
   ],
   "source": [
    "# Package versions\n",
    "%reload_ext watermark\n",
    "%watermark -v -iv"
   ]
  },
  {
   "cell_type": "markdown",
   "metadata": {
    "colab_type": "text",
    "id": "im5jcKqfJXN3"
   },
   "source": [
    "# Load Data"
   ]
  },
  {
   "cell_type": "code",
   "execution_count": 6,
   "metadata": {
    "colab": {
     "base_uri": "https://localhost:8080/",
     "height": 0
    },
    "colab_type": "code",
    "executionInfo": {
     "elapsed": 11024,
     "status": "ok",
     "timestamp": 1598212365470,
     "user": {
      "displayName": "Matheus Schmitz",
      "photoUrl": "",
      "userId": "05041072222578354690"
     },
     "user_tz": 180
    },
    "id": "g-Bt1qNdJZnz",
    "outputId": "2993daf3-d259-4399-ae24-26eae6a68cf7"
   },
   "outputs": [
    {
     "data": {
      "text/plain": [
       "(40486, 14)"
      ]
     },
     "execution_count": 6,
     "metadata": {
      "tags": []
     },
     "output_type": "execute_result"
    }
   ],
   "source": [
    "df = pd.read_csv('df_final.csv')\n",
    "df.shape"
   ]
  },
  {
   "cell_type": "code",
   "execution_count": 7,
   "metadata": {
    "colab": {},
    "colab_type": "code",
    "executionInfo": {
     "elapsed": 10989,
     "status": "ok",
     "timestamp": 1598212365471,
     "user": {
      "displayName": "Matheus Schmitz",
      "photoUrl": "",
      "userId": "05041072222578354690"
     },
     "user_tz": 180
    },
    "id": "pR3R_R13soP5"
   },
   "outputs": [],
   "source": [
    "df = shuffle(df)"
   ]
  },
  {
   "cell_type": "code",
   "execution_count": 8,
   "metadata": {
    "colab": {
     "base_uri": "https://localhost:8080/",
     "height": 0
    },
    "colab_type": "code",
    "executionInfo": {
     "elapsed": 10978,
     "status": "ok",
     "timestamp": 1598212365472,
     "user": {
      "displayName": "Matheus Schmitz",
      "photoUrl": "",
      "userId": "05041072222578354690"
     },
     "user_tz": 180
    },
    "id": "KEnBF18mJcuv",
    "outputId": "67e099f1-fc8f-42d8-f6ea-dea9ffd05edd"
   },
   "outputs": [
    {
     "data": {
      "text/html": [
       "<div>\n",
       "<style scoped>\n",
       "    .dataframe tbody tr th:only-of-type {\n",
       "        vertical-align: middle;\n",
       "    }\n",
       "\n",
       "    .dataframe tbody tr th {\n",
       "        vertical-align: top;\n",
       "    }\n",
       "\n",
       "    .dataframe thead th {\n",
       "        text-align: right;\n",
       "    }\n",
       "</style>\n",
       "<table border=\"1\" class=\"dataframe\">\n",
       "  <thead>\n",
       "    <tr style=\"text-align: right;\">\n",
       "      <th></th>\n",
       "      <th>technology</th>\n",
       "      <th>science</th>\n",
       "      <th>global issues</th>\n",
       "      <th>culture</th>\n",
       "      <th>TEDx</th>\n",
       "      <th>design</th>\n",
       "      <th>business</th>\n",
       "      <th>entertainment</th>\n",
       "      <th>health</th>\n",
       "      <th>innovation</th>\n",
       "      <th>society</th>\n",
       "      <th>art</th>\n",
       "      <th>social change</th>\n",
       "      <th>value</th>\n",
       "    </tr>\n",
       "  </thead>\n",
       "  <tbody>\n",
       "    <tr>\n",
       "      <th>25696</th>\n",
       "      <td>0.0</td>\n",
       "      <td>0.0</td>\n",
       "      <td>0.0</td>\n",
       "      <td>1.0</td>\n",
       "      <td>0.0</td>\n",
       "      <td>0.0</td>\n",
       "      <td>0.0</td>\n",
       "      <td>0.0</td>\n",
       "      <td>0.0</td>\n",
       "      <td>0.0</td>\n",
       "      <td>0.0</td>\n",
       "      <td>0.0</td>\n",
       "      <td>0.0</td>\n",
       "      <td>all. Clinton just always had that light in him...</td>\n",
       "    </tr>\n",
       "  </tbody>\n",
       "</table>\n",
       "</div>"
      ],
      "text/plain": [
       "       technology  ...                                              value\n",
       "25696         0.0  ...  all. Clinton just always had that light in him...\n",
       "\n",
       "[1 rows x 14 columns]"
      ]
     },
     "execution_count": 8,
     "metadata": {
      "tags": []
     },
     "output_type": "execute_result"
    }
   ],
   "source": [
    "df.tail(1)"
   ]
  },
  {
   "cell_type": "markdown",
   "metadata": {
    "colab_type": "text",
    "id": "piZIZ4HVNBXP"
   },
   "source": [
    "# Tokenizer"
   ]
  },
  {
   "cell_type": "code",
   "execution_count": 9,
   "metadata": {
    "colab": {},
    "colab_type": "code",
    "executionInfo": {
     "elapsed": 11208,
     "status": "ok",
     "timestamp": 1598212365717,
     "user": {
      "displayName": "Matheus Schmitz",
      "photoUrl": "",
      "userId": "05041072222578354690"
     },
     "user_tz": 180
    },
    "id": "r4w-gEvRJfDw"
   },
   "outputs": [],
   "source": [
    "# Model download\n",
    "tokenizer = transformers.BertTokenizer.from_pretrained('bert-base-cased')"
   ]
  },
  {
   "cell_type": "markdown",
   "metadata": {
    "colab_type": "text",
    "id": "63gO9fddNDBj"
   },
   "source": [
    "# Configurations"
   ]
  },
  {
   "cell_type": "code",
   "execution_count": 10,
   "metadata": {
    "colab": {},
    "colab_type": "code",
    "executionInfo": {
     "elapsed": 11191,
     "status": "ok",
     "timestamp": 1598212365717,
     "user": {
      "displayName": "Matheus Schmitz",
      "photoUrl": "",
      "userId": "05041072222578354690"
     },
     "user_tz": 180
    },
    "id": "2LTavXebNCXN"
   },
   "outputs": [],
   "source": [
    "# Model Hyperparameters\n",
    "EPOCHS = 10\n",
    "BATCH_SIZE = 16\n",
    "MAX_LENGTH = 128\n",
    "LEARNING_RATE = 0.00002 \n",
    "CLASSIFICATION_THRESHOLD = 0.2\n",
    "\n",
    "# BERT was trained on a 2e^-5 learning rate, using other LRs on my 'transformer head' gave me problems"
   ]
  },
  {
   "cell_type": "markdown",
   "metadata": {
    "colab_type": "text",
    "id": "q_9GTTahNRU4"
   },
   "source": [
    "# Data Batching"
   ]
  },
  {
   "cell_type": "code",
   "execution_count": 11,
   "metadata": {
    "colab": {},
    "colab_type": "code",
    "executionInfo": {
     "elapsed": 11172,
     "status": "ok",
     "timestamp": 1598212365718,
     "user": {
      "displayName": "Matheus Schmitz",
      "photoUrl": "",
      "userId": "05041072222578354690"
     },
     "user_tz": 180
    },
    "id": "slMoLWrcNSPs"
   },
   "outputs": [],
   "source": [
    "class DataBatcher(data.Dataset):\n",
    "\n",
    "    # Constructor\n",
    "    def __init__(self, review, targets, tokenizer, max_len):\n",
    "\n",
    "        # Initialize class atributes\n",
    "        self.review = review\n",
    "        self.targets = targets\n",
    "        self.tokenizer = tokenizer\n",
    "        self.max_len = max_len\n",
    "\n",
    "        # Shuffle\n",
    "        tmp = list(zip(review, targets))\n",
    "        random.shuffle(tmp)\n",
    "        review, targets = zip(*tmp)\n",
    "\n",
    "    def __len__(self):\n",
    "        return len(self.review)\n",
    "\n",
    "    # Method to obtain each review\n",
    "    def __getitem__(self, item):\n",
    "\n",
    "        # Load a review\n",
    "        review = str(self.review[item])\n",
    "\n",
    "        # Create the review embedding\n",
    "        encoding = tokenizer.encode_plus(review,\n",
    "                                         max_length = self.max_len,\n",
    "                                         truncation=True,\n",
    "                                         add_special_tokens = True,\n",
    "                                         pad_to_max_length = True,\n",
    "                                         return_attention_mask = True,\n",
    "                                         return_token_type_ids = False,\n",
    "                                         return_tensors = 'pt')\n",
    "        \n",
    "        # Among the methods returns, there is the attention mask\n",
    "        return {'review_text': review,\n",
    "                'input_ids': encoding['input_ids'].flatten(),\n",
    "                'attention_mask': encoding['attention_mask'].flatten(),\n",
    "                'targets': torch.tensor(self.targets[item], dtype = torch.long)}"
   ]
  },
  {
   "cell_type": "code",
   "execution_count": 12,
   "metadata": {
    "colab": {},
    "colab_type": "code",
    "executionInfo": {
     "elapsed": 11549,
     "status": "ok",
     "timestamp": 1598212366119,
     "user": {
      "displayName": "Matheus Schmitz",
      "photoUrl": "",
      "userId": "05041072222578354690"
     },
     "user_tz": 180
    },
    "id": "2WC1mxEgNSaF"
   },
   "outputs": [],
   "source": [
    "# This function creates a data loader to convert the dataset to the BERT format\n",
    "# torch.utils.data.dataloader.DataLoader\n",
    "def create_data_loader(df, tokenizer, max_len, batch_size):\n",
    "    ds = DataBatcher(review = df.value.to_numpy(),\n",
    "                     targets = df.iloc[:, :-1].to_numpy(),\n",
    "                     tokenizer = tokenizer,\n",
    "                     max_len = max_len)\n",
    "    \n",
    "    return data.DataLoader(ds, batch_size = batch_size, num_workers = 4)"
   ]
  },
  {
   "cell_type": "code",
   "execution_count": 13,
   "metadata": {
    "colab": {},
    "colab_type": "code",
    "executionInfo": {
     "elapsed": 11520,
     "status": "ok",
     "timestamp": 1598212366121,
     "user": {
      "displayName": "Matheus Schmitz",
      "photoUrl": "",
      "userId": "05041072222578354690"
     },
     "user_tz": 180
    },
    "id": "7xouYOeuAMMl"
   },
   "outputs": [],
   "source": [
    "# Taking only a fraction of the dataset for experimentation purposes\n",
    "# Using the whole dataset obviously improved performance, but training takes way to long\n",
    "\n",
    "# The model epochs take 1 minute for every 3000 rows\n",
    "# Total time in minutes is EPOCHS * (ROWS/3000)\n",
    "\n",
    "df = df[0:3000]"
   ]
  },
  {
   "cell_type": "code",
   "execution_count": 14,
   "metadata": {
    "colab": {},
    "colab_type": "code",
    "executionInfo": {
     "elapsed": 11502,
     "status": "ok",
     "timestamp": 1598212366122,
     "user": {
      "displayName": "Matheus Schmitz",
      "photoUrl": "",
      "userId": "05041072222578354690"
     },
     "user_tz": 180
    },
    "id": "wXpL8KTRNfHj"
   },
   "outputs": [],
   "source": [
    "# Train test split\n",
    "df_train, df_test = train_test_split(df, test_size = 0.2)"
   ]
  },
  {
   "cell_type": "code",
   "execution_count": 15,
   "metadata": {
    "colab": {},
    "colab_type": "code",
    "executionInfo": {
     "elapsed": 11487,
     "status": "ok",
     "timestamp": 1598212366122,
     "user": {
      "displayName": "Matheus Schmitz",
      "photoUrl": "",
      "userId": "05041072222578354690"
     },
     "user_tz": 180
    },
    "id": "MVdimpSFNtVw"
   },
   "outputs": [],
   "source": [
    "# Test validation split\n",
    "df_valid, df_test = train_test_split(df_test, test_size = 0.5) "
   ]
  },
  {
   "cell_type": "code",
   "execution_count": 16,
   "metadata": {
    "colab": {
     "base_uri": "https://localhost:8080/",
     "height": 0
    },
    "colab_type": "code",
    "executionInfo": {
     "elapsed": 11476,
     "status": "ok",
     "timestamp": 1598212366123,
     "user": {
      "displayName": "Matheus Schmitz",
      "photoUrl": "",
      "userId": "05041072222578354690"
     },
     "user_tz": 180
    },
    "id": "Jhh4XlwjN0fe",
    "outputId": "833a5390-3e5d-4ef4-f5ee-cbaf810568e7"
   },
   "outputs": [
    {
     "name": "stdout",
     "output_type": "stream",
     "text": [
      "df_train.shape: (2400, 14)\n",
      "df_test.shape: (300, 14)\n",
      "df_valid.shape: (300, 14)\n"
     ]
    }
   ],
   "source": [
    "print(f'df_train.shape: {df_train.shape}')\n",
    "print(f'df_test.shape: {df_test.shape}')\n",
    "print(f'df_valid.shape: {df_valid.shape}')"
   ]
  },
  {
   "cell_type": "code",
   "execution_count": 17,
   "metadata": {
    "colab": {},
    "colab_type": "code",
    "executionInfo": {
     "elapsed": 11461,
     "status": "ok",
     "timestamp": 1598212366123,
     "user": {
      "displayName": "Matheus Schmitz",
      "photoUrl": "",
      "userId": "05041072222578354690"
     },
     "user_tz": 180
    },
    "id": "msD7PvG3UXHO"
   },
   "outputs": [],
   "source": [
    "# Total Multiclass Predictions\n",
    "total_preds_df_train = df_train.shape[0] * (df_train.shape[1] -1)\n",
    "total_preds_df_test = df_test.shape[0] * (df_test.shape[1] -1)\n",
    "total_preds_df_valid = df_valid.shape[0] * (df_valid.shape[1] -1)"
   ]
  },
  {
   "cell_type": "code",
   "execution_count": 18,
   "metadata": {
    "colab": {},
    "colab_type": "code",
    "executionInfo": {
     "elapsed": 11446,
     "status": "ok",
     "timestamp": 1598212366124,
     "user": {
      "displayName": "Matheus Schmitz",
      "photoUrl": "",
      "userId": "05041072222578354690"
     },
     "user_tz": 180
    },
    "id": "UHYV_OmeN1uo"
   },
   "outputs": [],
   "source": [
    "# Load the data_loaders\n",
    "train_data_loader = create_data_loader(df_train, tokenizer, MAX_LENGTH, BATCH_SIZE)\n",
    "test_data_loader = create_data_loader(df_test, tokenizer, MAX_LENGTH, BATCH_SIZE)\n",
    "valid_data_loader = create_data_loader(df_valid, tokenizer, MAX_LENGTH, BATCH_SIZE)"
   ]
  },
  {
   "cell_type": "code",
   "execution_count": 19,
   "metadata": {
    "colab": {
     "base_uri": "https://localhost:8080/",
     "height": 0
    },
    "colab_type": "code",
    "executionInfo": {
     "elapsed": 11676,
     "status": "ok",
     "timestamp": 1598212366378,
     "user": {
      "displayName": "Matheus Schmitz",
      "photoUrl": "",
      "userId": "05041072222578354690"
     },
     "user_tz": 180
    },
    "id": "UDCJof4qe9uv",
    "outputId": "319090ef-ceb0-49bd-e959-79525b86ed01"
   },
   "outputs": [
    {
     "name": "stdout",
     "output_type": "stream",
     "text": [
      "torch.Size([16, 128])\n",
      "torch.Size([16, 128])\n",
      "torch.Size([16, 13])\n"
     ]
    }
   ],
   "source": [
    "# Visualize a sample on the training data\n",
    "sample = next(iter(train_data_loader))\n",
    "print(sample['input_ids'].shape)\n",
    "print(sample['attention_mask'].shape)\n",
    "print(sample['targets'].shape)"
   ]
  },
  {
   "cell_type": "markdown",
   "metadata": {
    "colab_type": "text",
    "id": "Yp2gItv4OVQt"
   },
   "source": [
    "# Model"
   ]
  },
  {
   "cell_type": "code",
   "execution_count": 20,
   "metadata": {
    "colab": {},
    "colab_type": "code",
    "executionInfo": {
     "elapsed": 14524,
     "status": "ok",
     "timestamp": 1598212369244,
     "user": {
      "displayName": "Matheus Schmitz",
      "photoUrl": "",
      "userId": "05041072222578354690"
     },
     "user_tz": 180
    },
    "id": "zXXQds2_OKWG"
   },
   "outputs": [],
   "source": [
    "# Loading the pre-trained BERT model\n",
    "model_bert = BertModel.from_pretrained('bert-base-cased')"
   ]
  },
  {
   "cell_type": "code",
   "execution_count": 21,
   "metadata": {
    "colab": {},
    "colab_type": "code",
    "executionInfo": {
     "elapsed": 14500,
     "status": "ok",
     "timestamp": 1598212369249,
     "user": {
      "displayName": "Matheus Schmitz",
      "photoUrl": "",
      "userId": "05041072222578354690"
     },
     "user_tz": 180
    },
    "id": "Tt8wekWJONC7"
   },
   "outputs": [],
   "source": [
    "class SentimentClassifier(nn.Module):\n",
    "\n",
    "    # Constructor\n",
    "    def __init__ (self, n_classes):\n",
    "\n",
    "        # Initialize atributes\n",
    "        super(SentimentClassifier, self).__init__()\n",
    "\n",
    "        # Define the pre-trained BERT model\n",
    "        self.bert = BertModel.from_pretrained('bert-base-cased')\n",
    "\n",
    "        # Add a dropout layer\n",
    "        self.drop1 = nn.Dropout(p=0.25)\n",
    "\n",
    "        # Add a hidden layer\n",
    "        self.fc1 = nn.Linear(self.bert.config.hidden_size, 128)\n",
    "\n",
    "        # Add a dense layer\n",
    "        self.fc2 = nn.Linear(128, n_classes)\n",
    "\n",
    "        # Add a dropout layer\n",
    "        self.drop2 = nn.Dropout(p=0.25)\n",
    "\n",
    "        # Final classification with sigmoid\n",
    "        self.sigmoid = nn.Sigmoid()\n",
    "\n",
    "    # Forward method\n",
    "    def forward(self, input_ids, attention_mask):\n",
    "\n",
    "        # Load the pooling layer from BERT\n",
    "        _, pooled_output = self.bert(input_ids = input_ids, attention_mask = attention_mask)\n",
    "\n",
    "        # Define the outputs from the created layers\n",
    "        output = self.drop1(pooled_output)\n",
    "        output = self.fc1(output)\n",
    "        output = self.fc2(output)\n",
    "        output = self.drop2(output)     \n",
    "        output = self.sigmoid(output)\n",
    "\n",
    "        # Return\n",
    "        return output"
   ]
  },
  {
   "cell_type": "code",
   "execution_count": 22,
   "metadata": {
    "colab": {
     "base_uri": "https://localhost:8080/",
     "height": 0
    },
    "colab_type": "code",
    "executionInfo": {
     "elapsed": 14484,
     "status": "ok",
     "timestamp": 1598212369252,
     "user": {
      "displayName": "Matheus Schmitz",
      "photoUrl": "",
      "userId": "05041072222578354690"
     },
     "user_tz": 180
    },
    "id": "knp-qEyiOaVC",
    "outputId": "ff8232a9-6ec3-465c-8877-a471b7d3507f"
   },
   "outputs": [
    {
     "data": {
      "text/plain": [
       "device(type='cuda', index=0)"
      ]
     },
     "execution_count": 22,
     "metadata": {
      "tags": []
     },
     "output_type": "execute_result"
    }
   ],
   "source": [
    "# Setting the device to GPU\n",
    "device = torch.device('cuda:0' if torch.cuda.is_available() else 'cpu')\n",
    "device"
   ]
  },
  {
   "cell_type": "code",
   "execution_count": 23,
   "metadata": {
    "colab": {
     "base_uri": "https://localhost:8080/",
     "height": 0
    },
    "colab_type": "code",
    "executionInfo": {
     "elapsed": 14469,
     "status": "ok",
     "timestamp": 1598212369253,
     "user": {
      "displayName": "Matheus Schmitz",
      "photoUrl": "",
      "userId": "05041072222578354690"
     },
     "user_tz": 180
    },
    "id": "CglLF6s2O5Y9",
    "outputId": "3b4b6772-1263-44e6-a5d9-873da9cda049"
   },
   "outputs": [
    {
     "data": {
      "text/plain": [
       "Index(['technology', 'science', 'global issues', 'culture', 'TEDx', 'design',\n",
       "       'business', 'entertainment', 'health', 'innovation', 'society', 'art',\n",
       "       'social change'],\n",
       "      dtype='object')"
      ]
     },
     "execution_count": 23,
     "metadata": {
      "tags": []
     },
     "output_type": "execute_result"
    }
   ],
   "source": [
    "class_names = df.columns.drop('value')\n",
    "class_names"
   ]
  },
  {
   "cell_type": "code",
   "execution_count": 24,
   "metadata": {
    "colab": {},
    "colab_type": "code",
    "executionInfo": {
     "elapsed": 17115,
     "status": "ok",
     "timestamp": 1598212371913,
     "user": {
      "displayName": "Matheus Schmitz",
      "photoUrl": "",
      "userId": "05041072222578354690"
     },
     "user_tz": 180
    },
    "id": "3vGSIBo_QbtZ"
   },
   "outputs": [],
   "source": [
    "# Create instance of the model\n",
    "model_sentiment_classifier = SentimentClassifier(len(class_names))"
   ]
  },
  {
   "cell_type": "code",
   "execution_count": 25,
   "metadata": {
    "colab": {},
    "colab_type": "code",
    "executionInfo": {
     "elapsed": 21958,
     "status": "ok",
     "timestamp": 1598212376774,
     "user": {
      "displayName": "Matheus Schmitz",
      "photoUrl": "",
      "userId": "05041072222578354690"
     },
     "user_tz": 180
    },
    "id": "KSajv_doQedO"
   },
   "outputs": [],
   "source": [
    "# Send model to the device\n",
    "model_sentiment_classifier = model_sentiment_classifier.to(device)"
   ]
  },
  {
   "cell_type": "code",
   "execution_count": 26,
   "metadata": {
    "colab": {},
    "colab_type": "code",
    "executionInfo": {
     "elapsed": 21948,
     "status": "ok",
     "timestamp": 1598212376776,
     "user": {
      "displayName": "Matheus Schmitz",
      "photoUrl": "",
      "userId": "05041072222578354690"
     },
     "user_tz": 180
    },
    "id": "3Ea2lXIIQkuo"
   },
   "outputs": [],
   "source": [
    "# The original BERT model uses AdamW: algorithm with fixed decay weight\n",
    "optimizer = AdamW(model_sentiment_classifier.parameters(), lr = LEARNING_RATE, correct_bias = False)"
   ]
  },
  {
   "cell_type": "code",
   "execution_count": 27,
   "metadata": {
    "colab": {},
    "colab_type": "code",
    "executionInfo": {
     "elapsed": 21936,
     "status": "ok",
     "timestamp": 1598212376777,
     "user": {
      "displayName": "Matheus Schmitz",
      "photoUrl": "",
      "userId": "05041072222578354690"
     },
     "user_tz": 180
    },
    "id": "0Gs7HxJPQnzG"
   },
   "outputs": [],
   "source": [
    "# Defining the total number of steps\n",
    "total_step = len(train_data_loader) * EPOCHS"
   ]
  },
  {
   "cell_type": "code",
   "execution_count": 28,
   "metadata": {
    "colab": {},
    "colab_type": "code",
    "executionInfo": {
     "elapsed": 21920,
     "status": "ok",
     "timestamp": 1598212376778,
     "user": {
      "displayName": "Matheus Schmitz",
      "photoUrl": "",
      "userId": "05041072222578354690"
     },
     "user_tz": 180
    },
    "id": "QkPXssQKQqkP"
   },
   "outputs": [],
   "source": [
    "# Adjust the learning rate\n",
    "scheduler = get_linear_schedule_with_warmup(optimizer, num_warmup_steps = 0, num_training_steps = total_step)"
   ]
  },
  {
   "cell_type": "code",
   "execution_count": 29,
   "metadata": {
    "colab": {},
    "colab_type": "code",
    "executionInfo": {
     "elapsed": 21902,
     "status": "ok",
     "timestamp": 1598212376779,
     "user": {
      "displayName": "Matheus Schmitz",
      "photoUrl": "",
      "userId": "05041072222578354690"
     },
     "user_tz": 180
    },
    "id": "cOQEpIkAQsZo"
   },
   "outputs": [],
   "source": [
    "# Loss function\n",
    "loss_fn = nn.BCELoss().to(device)\n",
    "#loss_fn = nn.BCEWithLogitsLoss().to(device)"
   ]
  },
  {
   "cell_type": "code",
   "execution_count": 30,
   "metadata": {
    "colab": {},
    "colab_type": "code",
    "executionInfo": {
     "elapsed": 21887,
     "status": "ok",
     "timestamp": 1598212376779,
     "user": {
      "displayName": "Matheus Schmitz",
      "photoUrl": "",
      "userId": "05041072222578354690"
     },
     "user_tz": 180
    },
    "id": "tIyIyDvWxaqf"
   },
   "outputs": [],
   "source": [
    "# Define threshold for sampled to be considered part of a class\n",
    "class_threshold = torch.Tensor([CLASSIFICATION_THRESHOLD]).to(device)"
   ]
  },
  {
   "cell_type": "code",
   "execution_count": 31,
   "metadata": {
    "colab": {},
    "colab_type": "code",
    "executionInfo": {
     "elapsed": 21874,
     "status": "ok",
     "timestamp": 1598212376780,
     "user": {
      "displayName": "Matheus Schmitz",
      "photoUrl": "",
      "userId": "05041072222578354690"
     },
     "user_tz": 180
    },
    "id": "HLEfgIKiuC33"
   },
   "outputs": [],
   "source": [
    "# Tensors with predictions\n",
    "predict_true = torch.Tensor([1]).to(device)\n",
    "predict_false = torch.Tensor([0]).to(device)"
   ]
  },
  {
   "cell_type": "code",
   "execution_count": 32,
   "metadata": {
    "colab": {},
    "colab_type": "code",
    "executionInfo": {
     "elapsed": 21863,
     "status": "ok",
     "timestamp": 1598212376781,
     "user": {
      "displayName": "Matheus Schmitz",
      "photoUrl": "",
      "userId": "05041072222578354690"
     },
     "user_tz": 180
    },
    "id": "mLn1r13xRPIE"
   },
   "outputs": [],
   "source": [
    "# Train function\n",
    "def train_model(model, data_loader, loss_fn, optimizer, device, scheduler, n_examples):\n",
    "\n",
    "    # Prepare for training\n",
    "    model = model.train()\n",
    "    losses = []\n",
    "    correct_prediction = 0\n",
    "\n",
    "    # Loop through the data samples\n",
    "    # Complete Deep Learing cicle\n",
    "    for d in data_loader:\n",
    "        input_ids = d['input_ids'].to(device)\n",
    "        attention_mask = d['attention_mask'].to(device)\n",
    "        targets = d['targets'].to(device)\n",
    "        outputs = model(input_ids = input_ids, attention_mask = attention_mask)\n",
    "\n",
    "        preds = torch.where(outputs > class_threshold, predict_true, predict_false)\n",
    "        loss = loss_fn(outputs, targets.float())\n",
    "\n",
    "        correct_prediction += torch.sum(preds == targets)\n",
    "        losses.append(loss.item())\n",
    "\n",
    "        loss.backward()\n",
    "        nn.utils.clip_grad_norm_(model.parameters(), max_norm = 1.0)\n",
    "        optimizer.step()\n",
    "        scheduler.step()\n",
    "        optimizer.zero_grad()\n",
    "\n",
    "    return torch.true_divide(correct_prediction, n_examples), np.mean(losses)"
   ]
  },
  {
   "cell_type": "code",
   "execution_count": 33,
   "metadata": {
    "colab": {},
    "colab_type": "code",
    "executionInfo": {
     "elapsed": 21850,
     "status": "ok",
     "timestamp": 1598212376782,
     "user": {
      "displayName": "Matheus Schmitz",
      "photoUrl": "",
      "userId": "05041072222578354690"
     },
     "user_tz": 180
    },
    "id": "FcmOgGzfRSKj"
   },
   "outputs": [],
   "source": [
    "# Evaluate function\n",
    "def evaluate_model(model, data_loader, loss_fn, device, n_examples):\n",
    "\n",
    "    model.eval()\n",
    "    losses = []\n",
    "    correct_prediction = 0\n",
    "\n",
    "    with torch.no_grad():\n",
    "        for d in data_loader:\n",
    "            input_ids = d['input_ids'].to(device)\n",
    "            attention_mask = d['attention_mask'].to(device)\n",
    "            targets = d['targets'].to(device)\n",
    "            outputs = model(input_ids = input_ids, attention_mask = attention_mask)\n",
    "\n",
    "            preds = torch.where(outputs > class_threshold, predict_true, predict_false)\n",
    "            loss = loss_fn(outputs, targets.float())\n",
    "\n",
    "            correct_prediction += torch.sum(preds == targets)\n",
    "            losses.append(loss.item())\n",
    "\n",
    "    return torch.true_divide(correct_prediction, n_examples), np.mean(losses)"
   ]
  },
  {
   "cell_type": "markdown",
   "metadata": {
    "colab_type": "text",
    "id": "Rb_f9juTUJEh"
   },
   "source": [
    "# Training"
   ]
  },
  {
   "cell_type": "code",
   "execution_count": 34,
   "metadata": {
    "colab": {
     "base_uri": "https://localhost:8080/",
     "height": 1000
    },
    "colab_type": "code",
    "executionInfo": {
     "elapsed": 659160,
     "status": "ok",
     "timestamp": 1598213014106,
     "user": {
      "displayName": "Matheus Schmitz",
      "photoUrl": "",
      "userId": "05041072222578354690"
     },
     "user_tz": 180
    },
    "id": "FPbaQ31CSNCf",
    "outputId": "b62b2392-dd8e-4cdc-a692-799b2957874f"
   },
   "outputs": [
    {
     "name": "stdout",
     "output_type": "stream",
     "text": [
      "Epoch 1/10\n",
      "----------\n",
      "Train error: 0.49360 | Train accuracy: 0.54455\n",
      "Valid error: 0.41049 | Valid accuracy: 0.63282\n",
      "Iteration Time: 62.50 seconds\n",
      "\n",
      "Epoch 2/10\n",
      "----------\n",
      "Train error: 0.46665 | Train accuracy: 0.60058\n",
      "Valid error: 0.39626 | Valid accuracy: 0.64385\n",
      "Iteration Time: 61.84 seconds\n",
      "\n",
      "Epoch 3/10\n",
      "----------\n",
      "Train error: 0.44233 | Train accuracy: 0.61801\n",
      "Valid error: 0.38026 | Valid accuracy: 0.66923\n",
      "Iteration Time: 62.01 seconds\n",
      "\n",
      "Epoch 4/10\n",
      "----------\n",
      "Train error: 0.41870 | Train accuracy: 0.63516\n",
      "Valid error: 0.37675 | Valid accuracy: 0.68846\n",
      "Iteration Time: 62.09 seconds\n",
      "\n",
      "Epoch 5/10\n",
      "----------\n",
      "Train error: 0.39726 | Train accuracy: 0.64756\n",
      "Valid error: 0.37195 | Valid accuracy: 0.70282\n",
      "Iteration Time: 62.08 seconds\n",
      "\n",
      "Epoch 6/10\n",
      "----------\n",
      "Train error: 0.38003 | Train accuracy: 0.65955\n",
      "Valid error: 0.37061 | Valid accuracy: 0.71462\n",
      "Iteration Time: 62.08 seconds\n",
      "\n",
      "Epoch 7/10\n",
      "----------\n",
      "Train error: 0.36270 | Train accuracy: 0.67436\n",
      "Valid error: 0.37469 | Valid accuracy: 0.70103\n",
      "Iteration Time: 62.13 seconds\n",
      "\n",
      "Epoch 8/10\n",
      "----------\n",
      "Train error: 0.35433 | Train accuracy: 0.67869\n",
      "Valid error: 0.37767 | Valid accuracy: 0.69564\n",
      "Iteration Time: 61.87 seconds\n",
      "\n",
      "Epoch 9/10\n",
      "----------\n",
      "Train error: 0.34043 | Train accuracy: 0.68981\n",
      "Valid error: 0.36837 | Valid accuracy: 0.72487\n",
      "Iteration Time: 62.07 seconds\n",
      "\n",
      "Epoch 10/10\n",
      "----------\n",
      "Train error: 0.33954 | Train accuracy: 0.68750\n",
      "Valid error: 0.36610 | Valid accuracy: 0.73667\n",
      "Iteration Time: 62.22 seconds\n",
      "\n",
      "CPU times: user 6min 18s, sys: 3min 56s, total: 10min 14s\n",
      "Wall time: 10min 37s\n"
     ]
    }
   ],
   "source": [
    "%%time\n",
    "\n",
    "# Store the train history\n",
    "history = defaultdict(list)\n",
    "\n",
    "# Control the best accuracy\n",
    "now = datetime.datetime.now().strftime(\"%Y-%m-%d-%H-%M-%S\")\n",
    "best_accuracy = 0\n",
    "\n",
    "# Loop\n",
    "for epoch in range(EPOCHS):\n",
    "\n",
    "    start_time = time()\n",
    "\n",
    "    print(f'Epoch {epoch+1}/{EPOCHS}')\n",
    "    print('-' * 10)\n",
    "    train_acc, train_loss = train_model(model_sentiment_classifier,\n",
    "                                        train_data_loader,\n",
    "                                        loss_fn,\n",
    "                                        optimizer,\n",
    "                                        device,\n",
    "                                        scheduler,\n",
    "                                        total_preds_df_train)\n",
    "    \n",
    "    print(f'Train error: {train_loss:.5f} | Train accuracy: {train_acc:.5f}')\n",
    "\n",
    "    valid_acc, valid_loss = evaluate_model(model_sentiment_classifier,\n",
    "                                           valid_data_loader,\n",
    "                                           loss_fn,\n",
    "                                           device,\n",
    "                                           total_preds_df_valid)\n",
    "    \n",
    "    print(f'Valid error: {valid_loss:.5f} | Valid accuracy: {valid_acc:.5f}')\n",
    "\n",
    "    end_time = time()\n",
    "    print(f'Iteration Time: {end_time - start_time:.2f} seconds')\n",
    "    print()\n",
    "\n",
    "    history['train_acc'].append(train_acc)\n",
    "    history['train_loss'].append(train_loss)\n",
    "\n",
    "    history['valid_acc'].append(valid_acc)\n",
    "    history['valid_loss'].append(valid_loss)\n",
    "\n",
    "    if valid_acc > best_accuracy:\n",
    "        torch.save(model_sentiment_classifier.state_dict(), f'models/model_sentiment_classifier_{now}.bin')\n",
    "        best_accuracy = valid_acc"
   ]
  },
  {
   "cell_type": "code",
   "execution_count": 35,
   "metadata": {
    "colab": {
     "base_uri": "https://localhost:8080/",
     "height": 281
    },
    "colab_type": "code",
    "executionInfo": {
     "elapsed": 659578,
     "status": "ok",
     "timestamp": 1598213014540,
     "user": {
      "displayName": "Matheus Schmitz",
      "photoUrl": "",
      "userId": "05041072222578354690"
     },
     "user_tz": 180
    },
    "id": "kjE_QhqtZTab",
    "outputId": "feb91010-26ae-4367-dcb0-93e45142c77e"
   },
   "outputs": [
    {
     "data": {
      "image/png": "[encoded data removed]",
      "text/plain": [
       "<Figure size 1152x288 with 2 Axes>"
      ]
     },
     "metadata": {
      "needs_background": "light",
      "tags": []
     },
     "output_type": "display_data"
    }
   ],
   "source": [
    "fig, ax = plt.subplots(1, 2, figsize=(16,4))\n",
    "\n",
    "ax[0].plot(history['train_acc'], label='train')\n",
    "ax[0].plot(history['valid_acc'], label='valid')\n",
    "ax[0].set_title('Accuracy')\n",
    "\n",
    "ax[1].plot(history['train_loss'], label='train')\n",
    "ax[1].plot(history['valid_loss'], label='valid')\n",
    "ax[1].set_title('Loss')\n",
    "\n",
    "plt.legend()\n",
    "plt.show()"
   ]
  },
  {
   "cell_type": "markdown",
   "metadata": {
    "colab_type": "text",
    "id": "DbuzMWdOAxSt"
   },
   "source": [
    "# Evaluate Model"
   ]
  },
  {
   "cell_type": "code",
   "execution_count": 36,
   "metadata": {
    "colab": {},
    "colab_type": "code",
    "executionInfo": {
     "elapsed": 662099,
     "status": "ok",
     "timestamp": 1598213017077,
     "user": {
      "displayName": "Matheus Schmitz",
      "photoUrl": "",
      "userId": "05041072222578354690"
     },
     "user_tz": 180
    },
    "id": "AAGJexM5AyOE"
   },
   "outputs": [],
   "source": [
    "# Create a model instance\n",
    "model = SentimentClassifier(len(class_names))"
   ]
  },
  {
   "cell_type": "code",
   "execution_count": 37,
   "metadata": {
    "colab": {
     "base_uri": "https://localhost:8080/",
     "height": 0
    },
    "colab_type": "code",
    "executionInfo": {
     "elapsed": 662906,
     "status": "ok",
     "timestamp": 1598213017897,
     "user": {
      "displayName": "Matheus Schmitz",
      "photoUrl": "",
      "userId": "05041072222578354690"
     },
     "user_tz": 180
    },
    "id": "ggV-xWwYERbd",
    "outputId": "91bffd53-4fa6-4a77-998d-367b295e189d"
   },
   "outputs": [
    {
     "data": {
      "text/plain": [
       "<All keys matched successfully>"
      ]
     },
     "execution_count": 37,
     "metadata": {
      "tags": []
     },
     "output_type": "execute_result"
    }
   ],
   "source": [
    "# Load the model\n",
    "model.load_state_dict(torch.load(f'models/model_sentiment_classifier_{now}.bin'))"
   ]
  },
  {
   "cell_type": "code",
   "execution_count": 38,
   "metadata": {
    "colab": {},
    "colab_type": "code",
    "executionInfo": {
     "elapsed": 662894,
     "status": "ok",
     "timestamp": 1598213017898,
     "user": {
      "displayName": "Matheus Schmitz",
      "photoUrl": "",
      "userId": "05041072222578354690"
     },
     "user_tz": 180
    },
    "id": "ypb4ToDhEReG"
   },
   "outputs": [],
   "source": [
    "# Send model to device\n",
    "model = model.to(device)"
   ]
  },
  {
   "cell_type": "code",
   "execution_count": 39,
   "metadata": {
    "colab": {},
    "colab_type": "code",
    "executionInfo": {
     "elapsed": 665924,
     "status": "ok",
     "timestamp": 1598213020941,
     "user": {
      "displayName": "Matheus Schmitz",
      "photoUrl": "",
      "userId": "05041072222578354690"
     },
     "user_tz": 180
    },
    "id": "cqKXVkLHERhF"
   },
   "outputs": [],
   "source": [
    "# Predicting using test data\n",
    "test_acc, test_loss = evaluate_model(model, test_data_loader, loss_fn, device, total_preds_df_test)"
   ]
  },
  {
   "cell_type": "code",
   "execution_count": 40,
   "metadata": {
    "colab": {
     "base_uri": "https://localhost:8080/",
     "height": 0
    },
    "colab_type": "code",
    "executionInfo": {
     "elapsed": 665913,
     "status": "ok",
     "timestamp": 1598213020942,
     "user": {
      "displayName": "Matheus Schmitz",
      "photoUrl": "",
      "userId": "05041072222578354690"
     },
     "user_tz": 180
    },
    "id": "fFiFGEuOERn7",
    "outputId": "1e6f4afd-708f-4839-e1ed-3ded9410ac16"
   },
   "outputs": [
    {
     "name": "stdout",
     "output_type": "stream",
     "text": [
      "Test Accuracy:  0.7353845834732056\n",
      "Test Loss:      0.3489445181269395\n"
     ]
    }
   ],
   "source": [
    "# Model performance\n",
    "print(f'Test Accuracy:  {test_acc}')\n",
    "print(f'Test Loss:      {test_loss}')"
   ]
  },
  {
   "cell_type": "code",
   "execution_count": 41,
   "metadata": {
    "colab": {},
    "colab_type": "code",
    "executionInfo": {
     "elapsed": 665893,
     "status": "ok",
     "timestamp": 1598213020942,
     "user": {
      "displayName": "Matheus Schmitz",
      "photoUrl": "",
      "userId": "05041072222578354690"
     },
     "user_tz": 180
    },
    "id": "W3S8YPWFERs9"
   },
   "outputs": [],
   "source": [
    "# Function to collect reviews\n",
    "def get_reviews(model, data_loader):\n",
    "    model = model.eval()\n",
    "\n",
    "    review_texts = []\n",
    "    predictions = []\n",
    "    prediction_probs = []\n",
    "    real_values = []\n",
    "\n",
    "    with torch.no_grad():\n",
    "        for d in data_loader:\n",
    "            texts = d['review_text']\n",
    "            input_ids = d['input_ids'].to(device)\n",
    "            attention_mask = d['attention_mask'].to(device)\n",
    "            targets = d['targets'].to(device)\n",
    "            outputs = model(input_ids = input_ids, attention_mask = attention_mask)\n",
    "\n",
    "            preds = torch.where(outputs > class_threshold, predict_true, predict_false)\n",
    "\n",
    "            review_texts.extend(texts)\n",
    "            predictions.extend(preds)\n",
    "            prediction_probs.extend(outputs)\n",
    "            real_values.extend(targets)\n",
    "\n",
    "    predictions = torch.stack(predictions).cpu()\n",
    "    prediction_probs = torch.stack(prediction_probs).cpu()\n",
    "    real_values = torch.stack(real_values).cpu()\n",
    "\n",
    "    return review_texts, predictions, prediction_probs, real_values"
   ]
  },
  {
   "cell_type": "code",
   "execution_count": 42,
   "metadata": {
    "colab": {},
    "colab_type": "code",
    "executionInfo": {
     "elapsed": 668859,
     "status": "ok",
     "timestamp": 1598213023922,
     "user": {
      "displayName": "Matheus Schmitz",
      "photoUrl": "",
      "userId": "05041072222578354690"
     },
     "user_tz": 180
    },
    "id": "L6E-FCPEERqm"
   },
   "outputs": [],
   "source": [
    "# Gathering real data\n",
    "y_review_texts, pred_onehot, pred_probs, true_onehot = get_reviews(model, test_data_loader)"
   ]
  },
  {
   "cell_type": "code",
   "execution_count": 43,
   "metadata": {
    "colab": {},
    "colab_type": "code",
    "executionInfo": {
     "elapsed": 668848,
     "status": "ok",
     "timestamp": 1598213023924,
     "user": {
      "displayName": "Matheus Schmitz",
      "photoUrl": "",
      "userId": "05041072222578354690"
     },
     "user_tz": 180
    },
    "id": "LPr9jpqDtPUy"
   },
   "outputs": [],
   "source": [
    "pred_bool = pred_onehot.bool()"
   ]
  },
  {
   "cell_type": "code",
   "execution_count": 44,
   "metadata": {
    "colab": {
     "base_uri": "https://localhost:8080/",
     "height": 0
    },
    "colab_type": "code",
    "executionInfo": {
     "elapsed": 668836,
     "status": "ok",
     "timestamp": 1598213023925,
     "user": {
      "displayName": "Matheus Schmitz",
      "photoUrl": "",
      "userId": "05041072222578354690"
     },
     "user_tz": 180
    },
    "id": "XF4TtSQ2ERmM",
    "outputId": "aff04981-83ed-47cf-a398-67cade1fc49a"
   },
   "outputs": [
    {
     "name": "stdout",
     "output_type": "stream",
     "text": [
      "               precision    recall  f1-score   support\n",
      "\n",
      "   technology       0.39      0.79      0.52        72\n",
      "      science       0.49      0.84      0.62        74\n",
      "global issues       0.38      0.77      0.51        62\n",
      "      culture       0.27      0.80      0.40        54\n",
      "         TEDx       0.22      0.65      0.32        62\n",
      "       design       0.30      0.63      0.41        35\n",
      "     business       0.26      0.62      0.37        39\n",
      "entertainment       0.31      0.59      0.41        22\n",
      "       health       0.43      0.54      0.48        41\n",
      "   innovation       0.25      0.56      0.35        25\n",
      "      society       0.14      0.38      0.21        24\n",
      "          art       0.24      0.50      0.32        18\n",
      "social change       0.18      0.37      0.24        30\n",
      "\n",
      "    micro avg       0.31      0.67      0.42       558\n",
      "    macro avg       0.30      0.62      0.40       558\n",
      " weighted avg       0.32      0.67      0.43       558\n",
      "  samples avg       0.32      0.60      0.39       558\n",
      "\n"
     ]
    },
    {
     "name": "stderr",
     "output_type": "stream",
     "text": [
      "/usr/local/lib/python3.6/dist-packages/sklearn/metrics/_classification.py:1272: UndefinedMetricWarning: Recall and F-score are ill-defined and being set to 0.0 in samples with no true labels. Use `zero_division` parameter to control this behavior.\n",
      "  _warn_prf(average, modifier, msg_start, len(result))\n"
     ]
    }
   ],
   "source": [
    "# Classification report\n",
    "print(classification_report(true_onehot, pred_onehot, target_names = class_names))"
   ]
  },
  {
   "cell_type": "code",
   "execution_count": 45,
   "metadata": {
    "colab": {
     "base_uri": "https://localhost:8080/",
     "height": 0
    },
    "colab_type": "code",
    "executionInfo": {
     "elapsed": 668823,
     "status": "ok",
     "timestamp": 1598213023925,
     "user": {
      "displayName": "Matheus Schmitz",
      "photoUrl": "",
      "userId": "05041072222578354690"
     },
     "user_tz": 180
    },
    "id": "X68DrtVXERkw",
    "outputId": "24d6d072-d724-459e-8dcd-157afe7bcce8"
   },
   "outputs": [
    {
     "data": {
      "text/plain": [
       "tensor([[0.6053, 0.8808, 0.0790, 0.0642, 0.1559, 0.1556, 0.0816, 0.0296, 0.0749,\n",
       "         0.2057, 0.0360, 0.0397, 0.0340],\n",
       "        [0.8425, 0.8366, 0.0509, 0.0631, 0.1616, 0.3793, 0.1339, 0.0437, 0.0802,\n",
       "         0.3334, 0.0391, 0.0748, 0.0466],\n",
       "        [0.0833, 0.0449, 0.3175, 0.4704, 0.2721, 0.0513, 0.2557, 0.0950, 0.0553,\n",
       "         0.0309, 0.1681, 0.0510, 0.2299]])"
      ]
     },
     "execution_count": 45,
     "metadata": {
      "tags": []
     },
     "output_type": "execute_result"
    }
   ],
   "source": [
    "# Sample the predictions tensor\n",
    "pred_probs[0:3] "
   ]
  },
  {
   "cell_type": "markdown",
   "metadata": {
    "colab_type": "text",
    "id": "k-Ngk9sMUTWz"
   },
   "source": [
    "## Checking One Review"
   ]
  },
  {
   "cell_type": "code",
   "execution_count": 46,
   "metadata": {
    "colab": {},
    "colab_type": "code",
    "executionInfo": {
     "elapsed": 668809,
     "status": "ok",
     "timestamp": 1598213023926,
     "user": {
      "displayName": "Matheus Schmitz",
      "photoUrl": "",
      "userId": "05041072222578354690"
     },
     "user_tz": 180
    },
    "id": "T9xZ2KotEnma"
   },
   "outputs": [],
   "source": [
    "# Checking one review\n",
    "idx = random.randint(0, len(true_onehot))\n",
    "\n",
    "review_text = y_review_texts[idx]\n",
    "true_sentiment = true_onehot[idx]\n",
    "\n",
    "pred_df = pd.DataFrame(\n",
    "    {\n",
    "        'class_names': class_names,\n",
    "        'values': pred_probs[idx]\n",
    "    }\n",
    ")"
   ]
  },
  {
   "cell_type": "code",
   "execution_count": 47,
   "metadata": {
    "colab": {
     "base_uri": "https://localhost:8080/",
     "height": 0
    },
    "colab_type": "code",
    "executionInfo": {
     "elapsed": 668797,
     "status": "ok",
     "timestamp": 1598213023926,
     "user": {
      "displayName": "Matheus Schmitz",
      "photoUrl": "",
      "userId": "05041072222578354690"
     },
     "user_tz": 180
    },
    "id": "6hZRJQy2Enps",
    "outputId": "d61d547f-9919-40be-cc0d-aee72cbd2371"
   },
   "outputs": [
    {
     "name": "stdout",
     "output_type": "stream",
     "text": [
      "of understanding the grassroots the root causes of things; they don't\n",
      "want to know why people hate us. I want to understand it. The reason\n",
      "you're trying to understand why they hate us is to get them to quit\n",
      "hating us. The idea when you go through this moral exercise of really\n",
      "coming to appreciate their humanity and better understand them is part\n",
      "of an effort to get them to appreciate your humanity in the long run.\n",
      "I think it's the first step toward that. That's the long-term\n",
      "goal.There are people who worry about this and in fact I myself\n",
      "apparently was denounced on national TV a couple of nights ago because\n",
      "of an op-ed I'd written. It was kind of along these lines and the\n",
      "allegation was\n",
      "\n",
      "Real Topic: tensor([0, 0, 1, 1, 0, 0, 0, 0, 0, 0, 0, 0, 0])\n"
     ]
    }
   ],
   "source": [
    "print(\"\\n\".join(wrap(review_text)))\n",
    "print()\n",
    "print(f'Real Topic: {true_sentiment}')"
   ]
  },
  {
   "cell_type": "code",
   "execution_count": 48,
   "metadata": {
    "colab": {
     "base_uri": "https://localhost:8080/",
     "height": 0
    },
    "colab_type": "code",
    "executionInfo": {
     "elapsed": 669296,
     "status": "ok",
     "timestamp": 1598213024440,
     "user": {
      "displayName": "Matheus Schmitz",
      "photoUrl": "",
      "userId": "05041072222578354690"
     },
     "user_tz": 180
    },
    "id": "GRXo3c3yEtpV",
    "outputId": "a1480615-d220-4809-a371-29607f8e3149"
   },
   "outputs": [
    {
     "data": {
      "text/plain": [
       "<matplotlib.legend.Legend at 0x7f3d90f5d320>"
      ]
     },
     "execution_count": 48,
     "metadata": {
      "tags": []
     },
     "output_type": "execute_result"
    },
    {
     "data": {
      "image/png": "[encoded data removed]",
      "text/plain": [
       "<Figure size 1800x360 with 1 Axes>"
      ]
     },
     "metadata": {
      "needs_background": "light",
      "tags": []
     },
     "output_type": "display_data"
    }
   ],
   "source": [
    "# Prediction plot\n",
    "fig = plt.gcf()\n",
    "fig.set_size_inches(25, 5)\n",
    "sns.barplot(x = 'values', y = 'class_names', data = pred_df, orient = 'h')\n",
    "plt.title('Probability Assigned to Each Topic', fontsize=18, fontweight=\"bold\", pad=5)\n",
    "plt.ylabel('Topic', fontsize=12, fontweight=\"bold\", labelpad=20)\n",
    "plt.xlabel('Probability', fontsize=12, fontweight=\"bold\", labelpad=5)\n",
    "plt.xlim([0, 1]);\n",
    "plt.axvline(class_threshold, label='Classification Threshold', linestyle='dashed')\n",
    "plt.legend()"
   ]
  },
  {
   "cell_type": "markdown",
   "metadata": {
    "colab_type": "text",
    "id": "ISRLYgoaUV6Y"
   },
   "source": [
    "# ROC-AUC"
   ]
  },
  {
   "cell_type": "code",
   "execution_count": 49,
   "metadata": {
    "colab": {},
    "colab_type": "code",
    "executionInfo": {
     "elapsed": 669279,
     "status": "ok",
     "timestamp": 1598213024441,
     "user": {
      "displayName": "Matheus Schmitz",
      "photoUrl": "",
      "userId": "05041072222578354690"
     },
     "user_tz": 180
    },
    "id": "anRIP27tSG0T"
   },
   "outputs": [],
   "source": [
    "# Convert tensors to numpy for usage with sklearn\n",
    "pred_onehot_np = pred_onehot.numpy().astype('int')\n",
    "true_onehot_np = true_onehot.numpy().astype('int')\n",
    "pred_probs_np = pred_probs.numpy()"
   ]
  },
  {
   "cell_type": "code",
   "execution_count": 50,
   "metadata": {
    "colab": {
     "base_uri": "https://localhost:8080/",
     "height": 34
    },
    "colab_type": "code",
    "executionInfo": {
     "elapsed": 669267,
     "status": "ok",
     "timestamp": 1598213024441,
     "user": {
      "displayName": "Matheus Schmitz",
      "photoUrl": "",
      "userId": "05041072222578354690"
     },
     "user_tz": 180
    },
    "id": "oZ0jNwx2UwVT",
    "outputId": "8c926284-6a6e-462c-9092-2bdef433d5fd"
   },
   "outputs": [
    {
     "data": {
      "text/plain": [
       "13"
      ]
     },
     "execution_count": 50,
     "metadata": {
      "tags": []
     },
     "output_type": "execute_result"
    }
   ],
   "source": [
    "# Set number of classes\n",
    "N_CLASSES = len(class_names)\n",
    "N_CLASSES"
   ]
  },
  {
   "cell_type": "code",
   "execution_count": 51,
   "metadata": {
    "colab": {},
    "colab_type": "code",
    "executionInfo": {
     "elapsed": 669255,
     "status": "ok",
     "timestamp": 1598213024442,
     "user": {
      "displayName": "Matheus Schmitz",
      "photoUrl": "",
      "userId": "05041072222578354690"
     },
     "user_tz": 180
    },
    "id": "5GWZagKuUhAI"
   },
   "outputs": [],
   "source": [
    "# Data for the plots\n",
    "fpr = dict()\n",
    "tpr = dict()\n",
    "roc_auc = dict()\n",
    "for i in range(N_CLASSES):\n",
    "    fpr[i], tpr[i], _ = roc_curve(true_onehot_np[:, i], pred_probs_np[:, i])\n",
    "    roc_auc[i] = auc(fpr[i], tpr[i])\n",
    "\n",
    "# Compute micro-average ROC curve and ROC area\n",
    "fpr[\"micro\"], tpr[\"micro\"], _ = roc_curve(true_onehot_np.ravel(), pred_probs_np.ravel())\n",
    "roc_auc[\"micro\"] = auc(fpr[\"micro\"], tpr[\"micro\"])"
   ]
  },
  {
   "cell_type": "code",
   "execution_count": 52,
   "metadata": {
    "colab": {
     "base_uri": "https://localhost:8080/",
     "height": 621
    },
    "colab_type": "code",
    "executionInfo": {
     "elapsed": 670167,
     "status": "ok",
     "timestamp": 1598213025364,
     "user": {
      "displayName": "Matheus Schmitz",
      "photoUrl": "",
      "userId": "05041072222578354690"
     },
     "user_tz": 180
    },
    "id": "_QKGGwgJU8in",
    "outputId": "95439c7f-e9c3-408d-e95a-a20520d72c41"
   },
   "outputs": [
    {
     "data": {
      "image/png": "[encoded data removed]",
      "text/plain": [
       "<Figure size 720x720 with 1 Axes>"
      ]
     },
     "metadata": {
      "needs_background": "light",
      "tags": []
     },
     "output_type": "display_data"
    }
   ],
   "source": [
    "# ROC-AUC Plot: Micro and Macro Scores\n",
    "\n",
    "# First aggregate all false positive rates\n",
    "all_fpr = np.unique(np.concatenate([fpr[i] for i in range(N_CLASSES)]))\n",
    "\n",
    "# Then interpolate all ROC curves at this points\n",
    "mean_tpr = np.zeros_like(all_fpr)\n",
    "for i in range(N_CLASSES):\n",
    "    mean_tpr += np.interp(all_fpr, fpr[i], tpr[i])\n",
    "\n",
    "# Finally average it and compute AUC\n",
    "mean_tpr /= N_CLASSES\n",
    "\n",
    "fpr[\"macro\"] = all_fpr\n",
    "tpr[\"macro\"] = mean_tpr\n",
    "roc_auc[\"macro\"] = auc(fpr[\"macro\"], tpr[\"macro\"])\n",
    "\n",
    "# Plot all ROC curves\n",
    "plt.figure(figsize=(10,10))\n",
    "plt.plot(fpr[\"micro\"], tpr[\"micro\"],\n",
    "         label='micro-average ROC curve (area = {0:0.2f})'\n",
    "               ''.format(roc_auc[\"micro\"]),\n",
    "         color='deeppink', linestyle=':', linewidth=4)\n",
    "\n",
    "plt.plot(fpr[\"macro\"], tpr[\"macro\"],\n",
    "         label='macro-average ROC curve (area = {0:0.2f})'\n",
    "               ''.format(roc_auc[\"macro\"]),\n",
    "         color='navy', linestyle=':', linewidth=4)\n",
    "\n",
    "\n",
    "plt.plot([0, 1], [0, 1], 'k--', lw=2)\n",
    "plt.xlim([0.0, 1.0])\n",
    "plt.ylim([0.0, 1.05])\n",
    "plt.xlabel('False Positive Rate')\n",
    "plt.ylabel('True Positive Rate')\n",
    "plt.title('Multi Class ROC')\n",
    "legend = plt.legend()\n",
    "legend._legend_box.align = \"right\"\n",
    "plt.legend(loc=\"lower right\")\n",
    "plt.show()"
   ]
  },
  {
   "cell_type": "code",
   "execution_count": 53,
   "metadata": {
    "colab": {
     "base_uri": "https://localhost:8080/",
     "height": 621
    },
    "colab_type": "code",
    "executionInfo": {
     "elapsed": 670525,
     "status": "ok",
     "timestamp": 1598213025733,
     "user": {
      "displayName": "Matheus Schmitz",
      "photoUrl": "",
      "userId": "05041072222578354690"
     },
     "user_tz": 180
    },
    "id": "SRVU9ucfVwEi",
    "outputId": "64d797e4-0014-49cc-a2f2-8f9b1dc5b221"
   },
   "outputs": [
    {
     "data": {
      "image/png": "[encoded data removed]",
      "text/plain": [
       "<Figure size 720x720 with 1 Axes>"
      ]
     },
     "metadata": {
      "needs_background": "light",
      "tags": []
     },
     "output_type": "display_data"
    }
   ],
   "source": [
    "# ROC-AUC Plot: Class Scores\n",
    "\n",
    "plt.figure(figsize=(10,10))\n",
    "\n",
    "colors = []\n",
    "cm = pylab.get_cmap('nipy_spectral')\n",
    "for i in range(N_CLASSES):\n",
    "    color = cm(1.*i/N_CLASSES)\n",
    "    colors.append(color)\n",
    "unique_labels = np.unique(class_names)\n",
    "\n",
    "for i, color in zip(range(N_CLASSES), colors):\n",
    "    plt.plot(fpr[i], tpr[i], color=color, lw=2,\n",
    "             label='{0} (area = {1:0.2f})'.format(unique_labels[i], roc_auc[i]))\n",
    "\n",
    "plt.plot([0, 1], [0, 1], 'k--', lw=2)\n",
    "plt.xlim([0.0, 1.0])\n",
    "plt.ylim([0.0, 1.05])\n",
    "plt.xlabel('False Positive Rate')\n",
    "plt.ylabel('True Positive Rate')\n",
    "plt.title('Multi Class ROC')\n",
    "legend = plt.legend()\n",
    "legend._legend_box.align = \"right\"\n",
    "plt.legend(loc=\"lower right\")\n",
    "plt.show()"
   ]
  },
  {
   "cell_type": "markdown",
   "metadata": {
    "colab_type": "text",
    "id": "Pjl7iES_o8nj"
   },
   "source": [
    "# Metrics"
   ]
  },
  {
   "cell_type": "code",
   "execution_count": 54,
   "metadata": {
    "colab": {},
    "colab_type": "code",
    "executionInfo": {
     "elapsed": 670516,
     "status": "ok",
     "timestamp": 1598213025734,
     "user": {
      "displayName": "Matheus Schmitz",
      "photoUrl": "",
      "userId": "05041072222578354690"
     },
     "user_tz": 180
    },
    "id": "ZkwVnqc-o9uK"
   },
   "outputs": [],
   "source": [
    "# Metrics\n",
    "precision = precision_score(true_onehot_np, pred_onehot_np, average = 'macro')\n",
    "recall = recall_score(true_onehot_np, pred_onehot_np, average = 'macro')\n",
    "f1_sc = f1_score(true_onehot_np, pred_onehot_np, average = 'macro')\n",
    "#accuracy_sc = accuracy_score(true_onehot_np, pred_onehot_np)\n",
    "roc_auc_macro = roc_auc['macro']"
   ]
  },
  {
   "cell_type": "code",
   "execution_count": 55,
   "metadata": {
    "colab": {
     "base_uri": "https://localhost:8080/",
     "height": 119
    },
    "colab_type": "code",
    "executionInfo": {
     "elapsed": 670507,
     "status": "ok",
     "timestamp": 1598213025734,
     "user": {
      "displayName": "Matheus Schmitz",
      "photoUrl": "",
      "userId": "05041072222578354690"
     },
     "user_tz": 180
    },
    "id": "O8SuntiHpB1S",
    "outputId": "c25c180c-4b85-48d8-f741-939567053e11"
   },
   "outputs": [
    {
     "name": "stdout",
     "output_type": "stream",
     "text": [
      "Model Performance Metrics:\n",
      "Precision  =  0.29646\n",
      "Recal      =  0.61679\n",
      "F1 Score   =  0.39594\n",
      "Accuracy   =  0.73538\n",
      "ROC-AUC    =  0.75834\n"
     ]
    }
   ],
   "source": [
    "print('Model Performance Metrics:')\n",
    "print(f'Precision  =  {precision:.5f}')\n",
    "print(f'Recal      =  {recall:.5f}')\n",
    "print(f'F1 Score   =  {f1_sc:.5f}')\n",
    "print(f'Accuracy   =  {test_acc:.5f}')\n",
    "print(f'ROC-AUC    =  {roc_auc_macro:.5f}')"
   ]
  },
  {
   "cell_type": "markdown",
   "metadata": {
    "colab_type": "text",
    "id": "Ruk4ShpepCVW"
   },
   "source": [
    "#End"
   ]
  }
 ],
 "metadata": {
  "accelerator": "GPU",
  "colab": {
   "authorship_tag": "ABX9TyMN9/1/i8pmb9DXsmpaDRHq",
   "collapsed_sections": [
    "rBv_yxARQFpy",
    "uYgXeTDgI-OA",
    "im5jcKqfJXN3",
    "piZIZ4HVNBXP",
    "63gO9fddNDBj",
    "q_9GTTahNRU4",
    "Yp2gItv4OVQt",
    "Rb_f9juTUJEh",
    "DbuzMWdOAxSt",
    "ISRLYgoaUV6Y",
    "Pjl7iES_o8nj"
   ],
   "name": "TED_Talks_Topic_Prediction.ipynb",
   "provenance": []
  },
  "kernelspec": {
   "display_name": "Python 3",
   "language": "python",
   "name": "python3"
  },
  "language_info": {
   "codemirror_mode": {
    "name": "ipython",
    "version": 3
   },
   "file_extension": ".py",
   "mimetype": "text/x-python",
   "name": "python",
   "nbconvert_exporter": "python",
   "pygments_lexer": "ipython3",
   "version": "3.7.7"
  }
 },
 "nbformat": 4,
 "nbformat_minor": 1
}
